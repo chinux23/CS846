{
 "cells": [
  {
   "cell_type": "code",
   "execution_count": 2,
   "metadata": {
    "collapsed": true
   },
   "outputs": [],
   "source": [
    "from git import Repo"
   ]
  },
  {
   "cell_type": "code",
   "execution_count": 3,
   "metadata": {
    "collapsed": true
   },
   "outputs": [],
   "source": [
    "def loadrepos():\n",
    "    import json\n",
    "    with open(\"repos.json\") as f:\n",
    "        repo1 = json.loads(f.read())\n",
    "    \n",
    "    with open(\"repos2.json\") as f:\n",
    "        repo2 = json.loads(f.read())\n",
    "        \n",
    "    items1 = repo1[\"items\"]\n",
    "    items2 = repo2[\"items\"]\n",
    "    items = items1 + items2\n",
    "    return items"
   ]
  },
  {
   "cell_type": "code",
   "execution_count": 4,
   "metadata": {
    "collapsed": true
   },
   "outputs": [],
   "source": [
    "items = loadrepos()\n",
    "repos = []"
   ]
  },
  {
   "cell_type": "code",
   "execution_count": 9,
   "metadata": {
    "collapsed": false
   },
   "outputs": [
    {
     "name": "stdout",
     "output_type": "stream",
     "text": [
      "git://github.com/ReactiveX/RxJava.git\n",
      "git://github.com/elastic/elasticsearch.git\n",
      "git://github.com/iluwatar/java-design-patterns.git\n",
      "git://github.com/square/retrofit.git\n",
      "git://github.com/square/okhttp.git\n",
      "git://github.com/google/guava.git\n",
      "git://github.com/PhilJay/MPAndroidChart.git\n",
      "git://github.com/JakeWharton/butterknife.git\n",
      "git://github.com/bumptech/glide.git\n",
      "git://github.com/JetBrains/kotlin.git\n",
      "git://github.com/square/leakcanary.git\n",
      "git://github.com/spring-projects/spring-boot.git\n",
      "git://github.com/spring-projects/spring-framework.git\n",
      "git://github.com/airbnb/lottie-android.git\n",
      "git://github.com/greenrobot/EventBus.git\n",
      "git://github.com/zxing/zxing.git\n",
      "git://github.com/nostra13/Android-Universal-Image-Loader.git\n",
      "git://github.com/kdn251/interviews.git\n",
      "git://github.com/google/iosched.git\n",
      "git://github.com/square/picasso.git\n",
      "git://github.com/ReactiveX/RxAndroid.git\n",
      "git://github.com/Blankj/AndroidUtilCode.git\n",
      "git://github.com/facebook/fresco.git\n",
      "git://github.com/libgdx/libgdx.git\n",
      "git://github.com/alibaba/dubbo.git\n",
      "git://github.com/chrisbanes/PhotoView.git\n",
      "git://github.com/netty/netty.git\n",
      "git://github.com/afollestad/material-dialogs.git\n",
      "git://github.com/Netflix/Hystrix.git\n",
      "git://github.com/alibaba/fastjson.git\n",
      "git://github.com/jfeinstein10/SlidingMenu.git\n",
      "git://github.com/CymChad/BaseRecyclerViewAdapterHelper.git\n",
      "git://github.com/lgvalle/Material-Animations.git\n",
      "git://github.com/Tencent/tinker.git\n",
      "git://github.com/loopj/android-async-http.git\n",
      "git://github.com/android10/Android-CleanArchitecture.git\n",
      "git://github.com/nickbutcher/plaid.git\n",
      "git://github.com/androidannotations/androidannotations.git\n",
      "git://github.com/JakeWharton/ViewPagerIndicator.git\n",
      "git://github.com/nathanmarz/storm.git\n",
      "git://github.com/pockethub/PocketHub.git\n",
      "git://github.com/daimajia/AndroidSwipeLayout.git\n",
      "git://github.com/greenrobot/greenDAO.git\n",
      "git://github.com/facebook/stetho.git\n",
      "git://github.com/realm/realm-java.git\n",
      "git://github.com/googlesamples/android-UniversalMusicPlayer.git\n",
      "git://github.com/liaohuqiu/android-Ultra-Pull-To-Refresh.git\n",
      "git://github.com/navasmdc/MaterialDesignLibrary.git\n",
      "git://github.com/chrisbanes/Android-PullToRefresh.git\n",
      "git://github.com/daimajia/AndroidViewAnimations.git\n"
     ]
    }
   ],
   "source": [
    "for item in items[0:50]:\n",
    "    print(item[\"git_url\"])"
   ]
  },
  {
   "cell_type": "code",
   "execution_count": 11,
   "metadata": {
    "collapsed": false
   },
   "outputs": [],
   "source": [
    "repo = Repo(\"Data/android-async-http\")"
   ]
  },
  {
   "cell_type": "code",
   "execution_count": 13,
   "metadata": {
    "collapsed": false
   },
   "outputs": [],
   "source": [
    "heads = repo.heads"
   ]
  },
  {
   "cell_type": "code",
   "execution_count": 14,
   "metadata": {
    "collapsed": true
   },
   "outputs": [],
   "source": [
    "master = heads.master"
   ]
  },
  {
   "cell_type": "code",
   "execution_count": 15,
   "metadata": {
    "collapsed": false
   },
   "outputs": [
    {
     "data": {
      "text/plain": [
       "<git.Commit \"f53deef7ad5b02b42b59dab92f66dec4fde8e1f6\">"
      ]
     },
     "execution_count": 15,
     "metadata": {},
     "output_type": "execute_result"
    }
   ],
   "source": [
    "master.commit"
   ]
  },
  {
   "cell_type": "code",
   "execution_count": 16,
   "metadata": {
    "collapsed": true
   },
   "outputs": [],
   "source": [
    "hc = repo.head.commit"
   ]
  },
  {
   "cell_type": "code",
   "execution_count": 17,
   "metadata": {
    "collapsed": true
   },
   "outputs": [],
   "source": [
    "hct = hc.tree"
   ]
  },
  {
   "cell_type": "code",
   "execution_count": 22,
   "metadata": {
    "collapsed": false
   },
   "outputs": [],
   "source": [
    "blob = hct.blobs[0]"
   ]
  },
  {
   "cell_type": "code",
   "execution_count": 23,
   "metadata": {
    "collapsed": false
   },
   "outputs": [
    {
     "data": {
      "text/plain": [
       "u'.gitignore'"
      ]
     },
     "execution_count": 23,
     "metadata": {},
     "output_type": "execute_result"
    }
   ],
   "source": [
    "blob.name"
   ]
  },
  {
   "cell_type": "code",
   "execution_count": 26,
   "metadata": {
    "collapsed": false
   },
   "outputs": [
    {
     "name": "stdout",
     "output_type": "stream",
     "text": [
      "# Custom\n",
      "_site\n",
      "\n",
      "# Ant\n",
      "MANIFEST.MF\n",
      "./*.jar\n",
      "build.num\n",
      "build\n",
      "\n",
      "# ADT\n",
      ".classpath\n",
      ".project\n",
      ".settings\n",
      "local.properties\n",
      "bin\n",
      "gen\n",
      "_layouts\n",
      "proguard.cfg\n",
      "\n",
      "# OSX\n",
      ".DS_Store\n",
      "\n",
      "# Github\n",
      "gh-pages\n",
      "\n",
      "# Gradle\n",
      ".gradle\n",
      "build\n",
      "\n",
      "# IDEA\n",
      "*.iml\n",
      "*.ipr\n",
      "*.iws\n",
      "out\n",
      ".idea\n",
      "\n",
      "# Maven\n",
      "target\n",
      "release.properties\n",
      "pom.xml.*\n",
      "\n"
     ]
    }
   ],
   "source": [
    "print(blob.data_stream.read())"
   ]
  },
  {
   "cell_type": "code",
   "execution_count": 37,
   "metadata": {
    "collapsed": false
   },
   "outputs": [
    {
     "data": {
      "text/plain": [
       "[<git.Blob \"d3b225642ad4b92164866f15ac15b32bbc5bbf1a\">,\n",
       " <git.Blob \"c92d7a2cbf9ca5ad2c4500543ca0742fee14e962\">,\n",
       " <git.Blob \"09f21beed36ef5fb68fc081ec173e945524b3b48\">,\n",
       " <git.Blob \"fa99f5847dc87685ee6bcb240eb51a6f3657dc1c\">,\n",
       " <git.Blob \"45deb1012f2bbbc2ccd9ea5cf0c460d2d1c76c56\">,\n",
       " <git.Blob \"4b375ec109b434f7ac4e5b8a816be2e9877c8ea9\">,\n",
       " <git.Blob \"2a500d66a622120aac186e989de8389a4f8bdcbb\">,\n",
       " <git.Blob \"1032452930c6ceff718a79d580352a797bfd144b\">,\n",
       " <git.Blob \"91a7e269e19dfc62e27137a0b57ef3e430cee4fd\">,\n",
       " <git.Blob \"aec99730b4e8fcd90b57a0e8e01544fea7c31a89\">,\n",
       " <git.Blob \"b56473b28fcb58e5601b613924664e3b6b35346b\">,\n",
       " <git.Blob \"612d9e44e09e4bff83e3dd66c98ed07c644528a1\">]"
      ]
     },
     "execution_count": 37,
     "metadata": {},
     "output_type": "execute_result"
    }
   ],
   "source": [
    "hc.tree.blobs[0]"
   ]
  },
  {
   "cell_type": "code",
   "execution_count": 39,
   "metadata": {
    "collapsed": false
   },
   "outputs": [
    {
     "data": {
      "text/plain": [
       "u'library'"
      ]
     },
     "execution_count": 39,
     "metadata": {},
     "output_type": "execute_result"
    }
   ],
   "source": [
    "hc.tree.trees[1].name"
   ]
  },
  {
   "cell_type": "code",
   "execution_count": 40,
   "metadata": {
    "collapsed": true
   },
   "outputs": [],
   "source": [
    "hcommit = repo.head.commit"
   ]
  },
  {
   "cell_type": "code",
   "execution_count": 42,
   "metadata": {
    "collapsed": false
   },
   "outputs": [
    {
     "data": {
      "text/plain": [
       "(<git.Commit \"6ed0a43f82dffe5e555ce35731a2c0f2bd313a3e\">,\n",
       " <git.Commit \"746b38015418fa59e3e75e1a797a82545d304d17\">)"
      ]
     },
     "execution_count": 42,
     "metadata": {},
     "output_type": "execute_result"
    }
   ],
   "source": [
    "hcommit.parents"
   ]
  },
  {
   "cell_type": "code",
   "execution_count": 43,
   "metadata": {
    "collapsed": false
   },
   "outputs": [
    {
     "data": {
      "text/plain": [
       "<git.index.base.IndexFile at 0x10ca655d0>"
      ]
     },
     "execution_count": 43,
     "metadata": {},
     "output_type": "execute_result"
    }
   ],
   "source": [
    "index = repo.index"
   ]
  },
  {
   "cell_type": "code",
   "execution_count": 44,
   "metadata": {
    "collapsed": true
   },
   "outputs": [],
   "source": [
    "commits = [ commit for commit in repo.iter_commits()]"
   ]
  },
  {
   "cell_type": "code",
   "execution_count": 48,
   "metadata": {
    "collapsed": false
   },
   "outputs": [
    {
     "data": {
      "text/plain": [
       "(<git.Commit \"6ed0a43f82dffe5e555ce35731a2c0f2bd313a3e\">,\n",
       " <git.Commit \"746b38015418fa59e3e75e1a797a82545d304d17\">)"
      ]
     },
     "execution_count": 48,
     "metadata": {},
     "output_type": "execute_result"
    }
   ],
   "source": [
    "commits[0].parents"
   ]
  },
  {
   "cell_type": "code",
   "execution_count": 47,
   "metadata": {
    "collapsed": false
   },
   "outputs": [
    {
     "data": {
      "text/plain": [
       "<bound method Repo.commit of <git.Repo \"/Users/chen/Repository/CS846/Data/android-async-http/.git\">>"
      ]
     },
     "execution_count": 47,
     "metadata": {},
     "output_type": "execute_result"
    }
   ],
   "source": [
    "repo.commit"
   ]
  },
  {
   "cell_type": "code",
   "execution_count": 49,
   "metadata": {
    "collapsed": false
   },
   "outputs": [
    {
     "data": {
      "text/plain": [
       "[2,\n",
       " 2,\n",
       " 1,\n",
       " 2,\n",
       " 1,\n",
       " 1,\n",
       " 1,\n",
       " 1,\n",
       " 2,\n",
       " 2,\n",
       " 1,\n",
       " 1,\n",
       " 2,\n",
       " 1,\n",
       " 1,\n",
       " 1,\n",
       " 1,\n",
       " 1,\n",
       " 1,\n",
       " 1,\n",
       " 2,\n",
       " 1,\n",
       " 1,\n",
       " 1,\n",
       " 1,\n",
       " 1,\n",
       " 1,\n",
       " 1,\n",
       " 1,\n",
       " 1,\n",
       " 1,\n",
       " 1,\n",
       " 1,\n",
       " 1,\n",
       " 2,\n",
       " 1,\n",
       " 1,\n",
       " 1,\n",
       " 1,\n",
       " 1,\n",
       " 1,\n",
       " 1,\n",
       " 1,\n",
       " 1,\n",
       " 1,\n",
       " 1,\n",
       " 1,\n",
       " 1,\n",
       " 1,\n",
       " 1,\n",
       " 1,\n",
       " 1,\n",
       " 1,\n",
       " 1,\n",
       " 1,\n",
       " 1,\n",
       " 1,\n",
       " 1,\n",
       " 1,\n",
       " 1,\n",
       " 1,\n",
       " 1,\n",
       " 1,\n",
       " 1,\n",
       " 1,\n",
       " 1,\n",
       " 2,\n",
       " 2,\n",
       " 2,\n",
       " 2,\n",
       " 1,\n",
       " 1,\n",
       " 1,\n",
       " 1,\n",
       " 1,\n",
       " 2,\n",
       " 1,\n",
       " 1,\n",
       " 1,\n",
       " 1,\n",
       " 1,\n",
       " 1,\n",
       " 1,\n",
       " 2,\n",
       " 1,\n",
       " 1,\n",
       " 2,\n",
       " 2,\n",
       " 1,\n",
       " 1,\n",
       " 1,\n",
       " 2,\n",
       " 2,\n",
       " 2,\n",
       " 1,\n",
       " 1,\n",
       " 1,\n",
       " 1,\n",
       " 1,\n",
       " 1,\n",
       " 1,\n",
       " 2,\n",
       " 1,\n",
       " 1,\n",
       " 2,\n",
       " 1,\n",
       " 2,\n",
       " 1,\n",
       " 1,\n",
       " 1,\n",
       " 1,\n",
       " 1,\n",
       " 2,\n",
       " 2,\n",
       " 1,\n",
       " 1,\n",
       " 1,\n",
       " 2,\n",
       " 1,\n",
       " 1,\n",
       " 1,\n",
       " 1,\n",
       " 2,\n",
       " 2,\n",
       " 2,\n",
       " 1,\n",
       " 1,\n",
       " 1,\n",
       " 1,\n",
       " 1,\n",
       " 2,\n",
       " 2,\n",
       " 1,\n",
       " 1,\n",
       " 1,\n",
       " 1,\n",
       " 1,\n",
       " 1,\n",
       " 1,\n",
       " 1,\n",
       " 1,\n",
       " 1,\n",
       " 1,\n",
       " 1,\n",
       " 2,\n",
       " 1,\n",
       " 2,\n",
       " 1,\n",
       " 1,\n",
       " 1,\n",
       " 1,\n",
       " 1,\n",
       " 1,\n",
       " 1,\n",
       " 1,\n",
       " 2,\n",
       " 2,\n",
       " 1,\n",
       " 1,\n",
       " 1,\n",
       " 1,\n",
       " 1,\n",
       " 1,\n",
       " 1,\n",
       " 1,\n",
       " 1,\n",
       " 1,\n",
       " 1,\n",
       " 1,\n",
       " 1,\n",
       " 1,\n",
       " 1,\n",
       " 1,\n",
       " 1,\n",
       " 1,\n",
       " 1,\n",
       " 1,\n",
       " 1,\n",
       " 1,\n",
       " 1,\n",
       " 1,\n",
       " 1,\n",
       " 1,\n",
       " 1,\n",
       " 1,\n",
       " 1,\n",
       " 2,\n",
       " 1,\n",
       " 1,\n",
       " 2,\n",
       " 2,\n",
       " 2,\n",
       " 1,\n",
       " 1,\n",
       " 1,\n",
       " 1,\n",
       " 1,\n",
       " 1,\n",
       " 1,\n",
       " 2,\n",
       " 2,\n",
       " 2,\n",
       " 1,\n",
       " 1,\n",
       " 1,\n",
       " 1,\n",
       " 1,\n",
       " 1,\n",
       " 1,\n",
       " 1,\n",
       " 1,\n",
       " 2,\n",
       " 1,\n",
       " 2,\n",
       " 2,\n",
       " 1,\n",
       " 1,\n",
       " 1,\n",
       " 2,\n",
       " 2,\n",
       " 1,\n",
       " 1,\n",
       " 2,\n",
       " 1,\n",
       " 1,\n",
       " 1,\n",
       " 1,\n",
       " 1,\n",
       " 1,\n",
       " 1,\n",
       " 1,\n",
       " 1,\n",
       " 1,\n",
       " 1,\n",
       " 1,\n",
       " 1,\n",
       " 1,\n",
       " 1,\n",
       " 1,\n",
       " 1,\n",
       " 1,\n",
       " 1,\n",
       " 1,\n",
       " 1,\n",
       " 1,\n",
       " 2,\n",
       " 1,\n",
       " 1,\n",
       " 2,\n",
       " 2,\n",
       " 1,\n",
       " 1,\n",
       " 2,\n",
       " 2,\n",
       " 1,\n",
       " 1,\n",
       " 2,\n",
       " 1,\n",
       " 1,\n",
       " 2,\n",
       " 1,\n",
       " 2,\n",
       " 1,\n",
       " 1,\n",
       " 1,\n",
       " 2,\n",
       " 1,\n",
       " 1,\n",
       " 2,\n",
       " 1,\n",
       " 2,\n",
       " 1,\n",
       " 2,\n",
       " 1,\n",
       " 2,\n",
       " 1,\n",
       " 2,\n",
       " 2,\n",
       " 1,\n",
       " 1,\n",
       " 1,\n",
       " 1,\n",
       " 1,\n",
       " 1,\n",
       " 1,\n",
       " 1,\n",
       " 2,\n",
       " 1,\n",
       " 2,\n",
       " 1,\n",
       " 2,\n",
       " 1,\n",
       " 1,\n",
       " 1,\n",
       " 1,\n",
       " 1,\n",
       " 1,\n",
       " 1,\n",
       " 1,\n",
       " 1,\n",
       " 1,\n",
       " 1,\n",
       " 1,\n",
       " 1,\n",
       " 1,\n",
       " 1,\n",
       " 2,\n",
       " 1,\n",
       " 2,\n",
       " 1,\n",
       " 1,\n",
       " 1,\n",
       " 1,\n",
       " 1,\n",
       " 1,\n",
       " 2,\n",
       " 1,\n",
       " 1,\n",
       " 1,\n",
       " 1,\n",
       " 1,\n",
       " 1,\n",
       " 1,\n",
       " 1,\n",
       " 1,\n",
       " 1,\n",
       " 1,\n",
       " 1,\n",
       " 1,\n",
       " 1,\n",
       " 1,\n",
       " 2,\n",
       " 2,\n",
       " 1,\n",
       " 1,\n",
       " 1,\n",
       " 2,\n",
       " 1,\n",
       " 2,\n",
       " 1,\n",
       " 1,\n",
       " 1,\n",
       " 1,\n",
       " 1,\n",
       " 1,\n",
       " 2,\n",
       " 1,\n",
       " 2,\n",
       " 1,\n",
       " 2,\n",
       " 2,\n",
       " 2,\n",
       " 2,\n",
       " 2,\n",
       " 1,\n",
       " 1,\n",
       " 1,\n",
       " 1,\n",
       " 1,\n",
       " 1,\n",
       " 1,\n",
       " 1,\n",
       " 2,\n",
       " 1,\n",
       " 2,\n",
       " 1,\n",
       " 1,\n",
       " 1,\n",
       " 1,\n",
       " 1,\n",
       " 1,\n",
       " 1,\n",
       " 1,\n",
       " 1,\n",
       " 1,\n",
       " 2,\n",
       " 1,\n",
       " 1,\n",
       " 1,\n",
       " 2,\n",
       " 1,\n",
       " 2,\n",
       " 1,\n",
       " 1,\n",
       " 2,\n",
       " 1,\n",
       " 1,\n",
       " 1,\n",
       " 1,\n",
       " 1,\n",
       " 1,\n",
       " 1,\n",
       " 1,\n",
       " 1,\n",
       " 1,\n",
       " 1,\n",
       " 1,\n",
       " 1,\n",
       " 1,\n",
       " 1,\n",
       " 1,\n",
       " 1,\n",
       " 1,\n",
       " 1,\n",
       " 1,\n",
       " 1,\n",
       " 1,\n",
       " 1,\n",
       " 1,\n",
       " 1,\n",
       " 1,\n",
       " 1,\n",
       " 1,\n",
       " 1,\n",
       " 1,\n",
       " 2,\n",
       " 1,\n",
       " 2,\n",
       " 1,\n",
       " 2,\n",
       " 1,\n",
       " 2,\n",
       " 1,\n",
       " 1,\n",
       " 1,\n",
       " 2,\n",
       " 2,\n",
       " 1,\n",
       " 1,\n",
       " 2,\n",
       " 2,\n",
       " 1,\n",
       " 1,\n",
       " 1,\n",
       " 1,\n",
       " 1,\n",
       " 1,\n",
       " 1,\n",
       " 1,\n",
       " 1,\n",
       " 1,\n",
       " 1,\n",
       " 2,\n",
       " 1,\n",
       " 1,\n",
       " 1,\n",
       " 1,\n",
       " 1,\n",
       " 1,\n",
       " 1,\n",
       " 1,\n",
       " 1,\n",
       " 2,\n",
       " 2,\n",
       " 1,\n",
       " 1,\n",
       " 1,\n",
       " 1,\n",
       " 1,\n",
       " 1,\n",
       " 1,\n",
       " 1,\n",
       " 1,\n",
       " 2,\n",
       " 2,\n",
       " 2,\n",
       " 1,\n",
       " 1,\n",
       " 1,\n",
       " 1,\n",
       " 1,\n",
       " 1,\n",
       " 1,\n",
       " 1,\n",
       " 1,\n",
       " 1,\n",
       " 1,\n",
       " 1,\n",
       " 1,\n",
       " 1,\n",
       " 1,\n",
       " 1,\n",
       " 1,\n",
       " 1,\n",
       " 1,\n",
       " 1,\n",
       " 1,\n",
       " 1,\n",
       " 1,\n",
       " 1,\n",
       " 1,\n",
       " 1,\n",
       " 1,\n",
       " 1,\n",
       " 1,\n",
       " 1,\n",
       " 1,\n",
       " 1,\n",
       " 1,\n",
       " 1,\n",
       " 2,\n",
       " 1,\n",
       " 1,\n",
       " 2,\n",
       " 1,\n",
       " 1,\n",
       " 1,\n",
       " 1,\n",
       " 1,\n",
       " 1,\n",
       " 1,\n",
       " 1,\n",
       " 2,\n",
       " 1,\n",
       " 2,\n",
       " 1,\n",
       " 1,\n",
       " 1,\n",
       " 1,\n",
       " 1,\n",
       " 1,\n",
       " 1,\n",
       " 1,\n",
       " 1,\n",
       " 1,\n",
       " 1,\n",
       " 2,\n",
       " 2,\n",
       " 2,\n",
       " 1,\n",
       " 1,\n",
       " 1,\n",
       " 2,\n",
       " 1,\n",
       " 2,\n",
       " 1,\n",
       " 1,\n",
       " 1,\n",
       " 1,\n",
       " 1,\n",
       " 1,\n",
       " 1,\n",
       " 1,\n",
       " 1,\n",
       " 1,\n",
       " 1,\n",
       " 1,\n",
       " 1,\n",
       " 1,\n",
       " 1,\n",
       " 1,\n",
       " 1,\n",
       " 1,\n",
       " 1,\n",
       " 1,\n",
       " 2,\n",
       " 2,\n",
       " 1,\n",
       " 2,\n",
       " 1,\n",
       " 1,\n",
       " 1,\n",
       " 1,\n",
       " 1,\n",
       " 2,\n",
       " 2,\n",
       " 1,\n",
       " 1,\n",
       " 1,\n",
       " 1,\n",
       " 1,\n",
       " 1,\n",
       " 1,\n",
       " 1,\n",
       " 2,\n",
       " 1,\n",
       " 2,\n",
       " 1,\n",
       " 1,\n",
       " 1,\n",
       " 1,\n",
       " 1,\n",
       " 2,\n",
       " 1,\n",
       " 2,\n",
       " 2,\n",
       " 2,\n",
       " 1,\n",
       " 1,\n",
       " 1,\n",
       " 1,\n",
       " 1,\n",
       " 1,\n",
       " 1,\n",
       " 1,\n",
       " 1,\n",
       " 1,\n",
       " 1,\n",
       " 1,\n",
       " 1,\n",
       " 1,\n",
       " 1,\n",
       " 1,\n",
       " 1,\n",
       " 1,\n",
       " 1,\n",
       " 1,\n",
       " 1,\n",
       " 1,\n",
       " 1,\n",
       " 1,\n",
       " 1,\n",
       " 1,\n",
       " 1,\n",
       " 1,\n",
       " 1,\n",
       " 1,\n",
       " 1,\n",
       " 1,\n",
       " 1,\n",
       " 1,\n",
       " 1,\n",
       " 1,\n",
       " 1,\n",
       " 1,\n",
       " 1,\n",
       " 1,\n",
       " 1,\n",
       " 1,\n",
       " 1,\n",
       " 1,\n",
       " 1,\n",
       " 1,\n",
       " 1,\n",
       " 1,\n",
       " 2,\n",
       " 1,\n",
       " 1,\n",
       " 1,\n",
       " 1,\n",
       " 1,\n",
       " 1,\n",
       " 1,\n",
       " 1,\n",
       " 1,\n",
       " 1,\n",
       " 1,\n",
       " 1,\n",
       " 1,\n",
       " 1,\n",
       " 2,\n",
       " 1,\n",
       " 2,\n",
       " 1,\n",
       " 1,\n",
       " 1,\n",
       " 2,\n",
       " 1,\n",
       " 2,\n",
       " 1,\n",
       " 2,\n",
       " 1,\n",
       " 1,\n",
       " 2,\n",
       " 2,\n",
       " 2,\n",
       " 2,\n",
       " 1,\n",
       " 1,\n",
       " 2,\n",
       " 1,\n",
       " 2,\n",
       " 1,\n",
       " 1,\n",
       " 2,\n",
       " 1,\n",
       " 2,\n",
       " 1,\n",
       " 2,\n",
       " 1,\n",
       " 2,\n",
       " 1,\n",
       " 2,\n",
       " 1,\n",
       " 2,\n",
       " 1,\n",
       " 2,\n",
       " 1,\n",
       " 1,\n",
       " 1,\n",
       " 1,\n",
       " 1,\n",
       " 1,\n",
       " 1,\n",
       " 1,\n",
       " 2,\n",
       " 1,\n",
       " 1,\n",
       " 1,\n",
       " 2,\n",
       " 2,\n",
       " 1,\n",
       " 2,\n",
       " 2,\n",
       " 1,\n",
       " 1,\n",
       " 1,\n",
       " 1,\n",
       " 2,\n",
       " 1,\n",
       " 1,\n",
       " 2,\n",
       " 1,\n",
       " 2,\n",
       " 1,\n",
       " 2,\n",
       " 1,\n",
       " 1,\n",
       " 1,\n",
       " 1,\n",
       " 2,\n",
       " 1,\n",
       " 2,\n",
       " 1,\n",
       " 1,\n",
       " 1,\n",
       " 2,\n",
       " 2,\n",
       " 1,\n",
       " 1,\n",
       " 1,\n",
       " 2,\n",
       " 1,\n",
       " 2,\n",
       " 1,\n",
       " 2,\n",
       " 1,\n",
       " 1,\n",
       " 2,\n",
       " 1,\n",
       " 2,\n",
       " 1,\n",
       " 1,\n",
       " 1,\n",
       " 2,\n",
       " 1,\n",
       " 1,\n",
       " 1,\n",
       " 2,\n",
       " 1,\n",
       " 1,\n",
       " 1,\n",
       " 1,\n",
       " 2,\n",
       " 1,\n",
       " 2,\n",
       " 1,\n",
       " 1,\n",
       " 1,\n",
       " 2,\n",
       " 1,\n",
       " 2,\n",
       " 1,\n",
       " 2,\n",
       " 1,\n",
       " 1,\n",
       " 1,\n",
       " 1,\n",
       " 2,\n",
       " 1,\n",
       " 1,\n",
       " 2,\n",
       " 2,\n",
       " 1,\n",
       " 2,\n",
       " 1,\n",
       " 2,\n",
       " 1,\n",
       " 2,\n",
       " 1,\n",
       " 2,\n",
       " 1,\n",
       " 2,\n",
       " 1,\n",
       " 1,\n",
       " 1,\n",
       " 1,\n",
       " 1,\n",
       " 1,\n",
       " 1,\n",
       " 1,\n",
       " 1,\n",
       " 2,\n",
       " 1,\n",
       " 2,\n",
       " 2,\n",
       " 1,\n",
       " 1,\n",
       " 2,\n",
       " 1,\n",
       " 1,\n",
       " 1,\n",
       " 1,\n",
       " 2,\n",
       " 1,\n",
       " 1,\n",
       " 1,\n",
       " 1,\n",
       " 1,\n",
       " 2,\n",
       " 1,\n",
       " 1,\n",
       " 1,\n",
       " 1,\n",
       " 1,\n",
       " 1,\n",
       " 1,\n",
       " 1,\n",
       " 1,\n",
       " 1,\n",
       " 1,\n",
       " 1,\n",
       " 1,\n",
       " 1,\n",
       " 1,\n",
       " 1,\n",
       " 1,\n",
       " 1,\n",
       " 1,\n",
       " 1,\n",
       " 1,\n",
       " 1,\n",
       " 1,\n",
       " 1,\n",
       " 1,\n",
       " 1,\n",
       " 1,\n",
       " 1,\n",
       " 1,\n",
       " 1,\n",
       " 1,\n",
       " 1,\n",
       " 1,\n",
       " 1,\n",
       " 1,\n",
       " 1,\n",
       " 1,\n",
       " 1,\n",
       " 1,\n",
       " 1,\n",
       " 1,\n",
       " 1,\n",
       " 1,\n",
       " 1,\n",
       " 1,\n",
       " 0]"
      ]
     },
     "execution_count": 49,
     "metadata": {},
     "output_type": "execute_result"
    }
   ],
   "source": [
    "[len(commit.parents) for commit in repo.iter_commits()]"
   ]
  },
  {
   "cell_type": "code",
   "execution_count": 53,
   "metadata": {
    "collapsed": false
   },
   "outputs": [],
   "source": [
    "commit = commits[10]"
   ]
  },
  {
   "cell_type": "code",
   "execution_count": 74,
   "metadata": {
    "collapsed": false
   },
   "outputs": [],
   "source": [
    "diff = commit.diff(commit.parents[0])"
   ]
  },
  {
   "cell_type": "code",
   "execution_count": null,
   "metadata": {
    "collapsed": false
   },
   "outputs": [],
   "source": []
  },
  {
   "cell_type": "code",
   "execution_count": 63,
   "metadata": {
    "collapsed": true
   },
   "outputs": [],
   "source": [
    "# first only evaluate commits who has only one parent\n",
    "# More than one parent is likely to be a merge"
   ]
  },
  {
   "cell_type": "code",
   "execution_count": 64,
   "metadata": {
    "collapsed": true
   },
   "outputs": [],
   "source": [
    "# TODO: Given two commits, calculate all files which are different"
   ]
  },
  {
   "cell_type": "code",
   "execution_count": 87,
   "metadata": {
    "collapsed": false
   },
   "outputs": [],
   "source": [
    "diffs = commit.tree.diff(commit.parents[0].tree)"
   ]
  },
  {
   "cell_type": "code",
   "execution_count": 88,
   "metadata": {
    "collapsed": false
   },
   "outputs": [
    {
     "data": {
      "text/plain": [
       "u'library/src/main/java/com/loopj/android/http/AsyncHttpResponseHandler.java'"
      ]
     },
     "execution_count": 88,
     "metadata": {},
     "output_type": "execute_result"
    }
   ],
   "source": [
    "diffs[0]"
   ]
  },
  {
   "cell_type": "code",
   "execution_count": 89,
   "metadata": {
    "collapsed": false
   },
   "outputs": [
    {
     "data": {
      "text/plain": [
       "u'library/src/main/java/com/loopj/android/http/AsyncHttpResponseHandler.java'"
      ]
     },
     "execution_count": 89,
     "metadata": {},
     "output_type": "execute_result"
    }
   ],
   "source": [
    "diffs[0].b_path"
   ]
  },
  {
   "cell_type": "code",
   "execution_count": 91,
   "metadata": {
    "collapsed": false
   },
   "outputs": [],
   "source": [
    "diff = diffs[0]"
   ]
  },
  {
   "cell_type": "code",
   "execution_count": 93,
   "metadata": {
    "collapsed": false
   },
   "outputs": [
    {
     "data": {
      "text/plain": [
       "<git.Commit \"2a9b4ef7de68196945920de480880a2b7829ba2a\">"
      ]
     },
     "execution_count": 93,
     "metadata": {},
     "output_type": "execute_result"
    }
   ],
   "source": [
    "commit"
   ]
  },
  {
   "cell_type": "code",
   "execution_count": 100,
   "metadata": {
    "collapsed": false
   },
   "outputs": [
    {
     "data": {
      "text/plain": [
       "<git.diff.Diff at 0x10c5e1950>"
      ]
     },
     "execution_count": 100,
     "metadata": {},
     "output_type": "execute_result"
    }
   ],
   "source": [
    "diff."
   ]
  },
  {
   "cell_type": "code",
   "execution_count": 101,
   "metadata": {
    "collapsed": false
   },
   "outputs": [
    {
     "data": {
      "text/plain": [
       "<git.Tree \"8deb91037918d04cce6b24997aa6d2285442ed0c\">"
      ]
     },
     "execution_count": 101,
     "metadata": {},
     "output_type": "execute_result"
    }
   ],
   "source": [
    "commit.tree."
   ]
  },
  {
   "cell_type": "code",
   "execution_count": 105,
   "metadata": {
    "collapsed": false
   },
   "outputs": [
    {
     "data": {
      "text/plain": [
       "u'20475601ff6f1cacb04244b616318531ab8714e6'"
      ]
     },
     "execution_count": 105,
     "metadata": {},
     "output_type": "execute_result"
    }
   ],
   "source": [
    "diff.a_blob.hexsha"
   ]
  },
  {
   "cell_type": "code",
   "execution_count": 111,
   "metadata": {
    "collapsed": false
   },
   "outputs": [
    {
     "data": {
      "text/plain": [
       "u'609cc21a7f986cf4f7ebce6953cca6e5c51d3895'"
      ]
     },
     "execution_count": 111,
     "metadata": {},
     "output_type": "execute_result"
    }
   ],
   "source": [
    "diff.b_blob.hexsha"
   ]
  },
  {
   "cell_type": "code",
   "execution_count": 109,
   "metadata": {
    "collapsed": false
   },
   "outputs": [
    {
     "data": {
      "text/plain": [
       "<git.Blob \"20475601ff6f1cacb04244b616318531ab8714e6\">"
      ]
     },
     "execution_count": 109,
     "metadata": {},
     "output_type": "execute_result"
    }
   ],
   "source": [
    "commit.tree[\"library/src/main/java/com/loopj/android/http/AsyncHttpResponseHandler.java\"]"
   ]
  },
  {
   "cell_type": "code",
   "execution_count": 110,
   "metadata": {
    "collapsed": false
   },
   "outputs": [
    {
     "data": {
      "text/plain": [
       "<git.Blob \"609cc21a7f986cf4f7ebce6953cca6e5c51d3895\">"
      ]
     },
     "execution_count": 110,
     "metadata": {},
     "output_type": "execute_result"
    }
   ],
   "source": [
    "commit.parents[0].tree[\"library/src/main/java/com/loopj/android/http/AsyncHttpResponseHandler.java\"]"
   ]
  },
  {
   "cell_type": "code",
   "execution_count": 112,
   "metadata": {
    "collapsed": true
   },
   "outputs": [],
   "source": [
    "a_blob = diff.a_blob\n",
    "b_blob = diff.b_blob"
   ]
  },
  {
   "cell_type": "code",
   "execution_count": 117,
   "metadata": {
    "collapsed": false
   },
   "outputs": [
    {
     "name": "stdout",
     "output_type": "stream",
     "text": [
      "/*\n",
      "    Android Asynchronous Http Client\n",
      "    Copyright (c) 2011 James Smith <james@loopj.com>\n",
      "    https://loopj.com\n",
      "\n",
      "    Licensed under the Apache License, Version 2.0 (the \"License\");\n",
      "    you may not use this file except in compliance with the License.\n",
      "    You may obtain a copy of the License at\n",
      "\n",
      "        https://www.apache.org/licenses/LICENSE-2.0\n",
      "\n",
      "    Unless required by applicable law or agreed to in writing, software\n",
      "    distributed under the License is distributed on an \"AS IS\" BASIS,\n",
      "    WITHOUT WARRANTIES OR CONDITIONS OF ANY KIND, either express or implied.\n",
      "    See the License for the specific language governing permissions and\n",
      "    limitations under the License.\n",
      "*/\n",
      "\n",
      "package com.loopj.android.http;\n",
      "\n",
      "import android.os.Handler;\n",
      "import android.os.Looper;\n",
      "import android.os.Message;\n",
      "\n",
      "import java.io.IOException;\n",
      "import java.io.InputStream;\n",
      "import java.lang.ref.WeakReference;\n",
      "import java.net.URI;\n",
      "\n",
      "import cz.msebera.android.httpclient.Header;\n",
      "import cz.msebera.android.httpclient.HttpEntity;\n",
      "import cz.msebera.android.httpclient.HttpResponse;\n",
      "import cz.msebera.android.httpclient.StatusLine;\n",
      "import cz.msebera.android.httpclient.client.HttpResponseException;\n",
      "import cz.msebera.android.httpclient.util.ByteArrayBuffer;\n",
      "\n",
      "/**\n",
      " * Used to intercept and handle the responses from requests made using {@link AsyncHttpClient}. The\n",
      " * {@link #onSuccess(int, cz.msebera.android.httpclient.Header[], byte[])} method is designed to be anonymously\n",
      " * overridden with your own response handling code. <p>&nbsp;</p> Additionally, you can override the\n",
      " * {@link #onFailure(int, cz.msebera.android.httpclient.Header[], byte[], Throwable)}, {@link #onStart()}, {@link\n",
      " * #onFinish()}, {@link #onRetry(int)} and {@link #onProgress(long, long)} methods as required.\n",
      " * <p>&nbsp;</p> For example: <p>&nbsp;</p>\n",
      " * <pre>\n",
      " * AsyncHttpClient client = new AsyncHttpClient();\n",
      " * client.get(\"https://www.google.com\", new AsyncHttpResponseHandler() {\n",
      " *     &#064;Override\n",
      " *     public void onStart() {\n",
      " *         // Initiated the request\n",
      " *     }\n",
      " *\n",
      " *     &#064;Override\n",
      " *     public void onSuccess(int statusCode, Header[] headers, byte[] responseBody) {\n",
      " *         // Successfully got a response\n",
      " *     }\n",
      " *\n",
      " *     &#064;Override\n",
      " *     public void onFailure(int statusCode, Header[] headers, byte[] responseBody, Throwable\n",
      " * error)\n",
      " * {\n",
      " *         // Response failed :(\n",
      " *     }\n",
      " *\n",
      " *     &#064;Override\n",
      " *     public void onRetry(int retryNo) {\n",
      " *         // Request was retried\n",
      " *     }\n",
      " *\n",
      " *     &#064;Override\n",
      " *     public void onProgress(long bytesWritten, long totalSize) {\n",
      " *         // Progress notification\n",
      " *     }\n",
      " *\n",
      " *     &#064;Override\n",
      " *     public void onFinish() {\n",
      " *         // Completed the request (either success or failure)\n",
      " *     }\n",
      " * });\n",
      " * </pre>\n",
      " */\n",
      "@SuppressWarnings(\"ALL\")\n",
      "public abstract class AsyncHttpResponseHandler implements ResponseHandlerInterface {\n",
      "\n",
      "    public static final String DEFAULT_CHARSET = \"UTF-8\";\n",
      "    public static final String UTF8_BOM = \"\\uFEFF\";\n",
      "    protected static final int SUCCESS_MESSAGE = 0;\n",
      "    protected static final int FAILURE_MESSAGE = 1;\n",
      "    protected static final int START_MESSAGE = 2;\n",
      "    protected static final int FINISH_MESSAGE = 3;\n",
      "    protected static final int PROGRESS_MESSAGE = 4;\n",
      "    protected static final int RETRY_MESSAGE = 5;\n",
      "    protected static final int CANCEL_MESSAGE = 6;\n",
      "    protected static final int BUFFER_SIZE = 4096;\n",
      "    private static final String LOG_TAG = \"AsyncHttpRH\";\n",
      "    private String responseCharset = DEFAULT_CHARSET;\n",
      "    private Handler handler;\n",
      "    private boolean useSynchronousMode;\n",
      "    private boolean usePoolThread;\n",
      "\n",
      "    private URI requestURI = null;\n",
      "    private Header[] requestHeaders = null;\n",
      "    private Looper looper = null;\n",
      "    private WeakReference<Object> TAG = new WeakReference<Object>(null);\n",
      "\n",
      "    /**\n",
      "     * Creates a new AsyncHttpResponseHandler\n",
      "     */\n",
      "    public AsyncHttpResponseHandler() {\n",
      "        this(null);\n",
      "    }\n",
      "\n",
      "    /**\n",
      "     * Creates a new AsyncHttpResponseHandler with a user-supplied looper. If\n",
      "     * the passed looper is null, the looper attached to the current thread will\n",
      "     * be used.\n",
      "     *\n",
      "     * @param looper The looper to work with\n",
      "     */\n",
      "    public AsyncHttpResponseHandler(Looper looper) {\n",
      "        // Do not use the pool's thread to fire callbacks by default.\n",
      "        this(looper == null ? Looper.myLooper() : looper, false);\n",
      "    }\n",
      "\n",
      "    /**\n",
      "     * Creates a new AsyncHttpResponseHandler and decide whether the callbacks\n",
      "     * will be fired on current thread's looper or the pool thread's.\n",
      "     *\n",
      "     * @param usePoolThread Whether to use the pool's thread to fire callbacks\n",
      "     */\n",
      "    public AsyncHttpResponseHandler(boolean usePoolThread) {\n",
      "        this(usePoolThread ? null : Looper.myLooper(), usePoolThread);\n",
      "    }\n",
      "\n",
      "    private AsyncHttpResponseHandler(Looper looper, boolean usePoolThread) {\n",
      "        if (!usePoolThread) {\n",
      "            Utils.asserts(looper != null, \"use looper thread, must call Looper.prepare() first!\");\n",
      "            this.looper = looper;\n",
      "            // Create a handler on current thread to submit tasks\n",
      "            this.handler = new ResponderHandler(this, looper);\n",
      "        } else {\n",
      "            Utils.asserts(looper == null, \"use pool thread, looper should be null!\");\n",
      "            // If pool thread is to be used, there's no point in keeping a reference\n",
      "            // to the looper and handler.\n",
      "            this.looper = null;\n",
      "            this.handler = null;\n",
      "        }\n",
      "\n",
      "        this.usePoolThread = usePoolThread;\n",
      "    }\n",
      "\n",
      "    @Override\n",
      "    public Object getTag() {\n",
      "        return this.TAG.get();\n",
      "    }\n",
      "\n",
      "    @Override\n",
      "    public void setTag(Object TAG) {\n",
      "        this.TAG = new WeakReference<Object>(TAG);\n",
      "    }\n",
      "\n",
      "    @Override\n",
      "    public URI getRequestURI() {\n",
      "        return this.requestURI;\n",
      "    }\n",
      "\n",
      "    @Override\n",
      "    public void setRequestURI(URI requestURI) {\n",
      "        this.requestURI = requestURI;\n",
      "    }\n",
      "\n",
      "    @Override\n",
      "    public Header[] getRequestHeaders() {\n",
      "        return this.requestHeaders;\n",
      "    }\n",
      "\n",
      "    @Override\n",
      "    public void setRequestHeaders(Header[] requestHeaders) {\n",
      "        this.requestHeaders = requestHeaders;\n",
      "    }\n",
      "\n",
      "    @Override\n",
      "    public boolean getUseSynchronousMode() {\n",
      "        return useSynchronousMode;\n",
      "    }\n",
      "\n",
      "    @Override\n",
      "    public void setUseSynchronousMode(boolean sync) {\n",
      "        // A looper must be prepared before setting asynchronous mode.\n",
      "        if (!sync && looper == null) {\n",
      "            sync = true;\n",
      "            AsyncHttpClient.log.w(LOG_TAG, \"Current thread has not called Looper.prepare(). Forcing synchronous mode.\");\n",
      "        }\n",
      "\n",
      "        // If using asynchronous mode.\n",
      "        if (!sync && handler == null) {\n",
      "            // Create a handler on current thread to submit tasks\n",
      "            handler = new ResponderHandler(this, looper);\n",
      "        } else if (sync && handler != null) {\n",
      "            // TODO: Consider adding a flag to remove all queued messages.\n",
      "            handler = null;\n",
      "        }\n",
      "\n",
      "        useSynchronousMode = sync;\n",
      "    }\n",
      "\n",
      "    @Override\n",
      "    public boolean getUsePoolThread() {\n",
      "        return usePoolThread;\n",
      "    }\n",
      "\n",
      "    @Override\n",
      "    public void setUsePoolThread(boolean pool) {\n",
      "        // If pool thread is to be used, there's no point in keeping a reference\n",
      "        // to the looper and no need for a handler.\n",
      "        if (pool) {\n",
      "            looper = null;\n",
      "            handler = null;\n",
      "        }\n",
      "\n",
      "        usePoolThread = pool;\n",
      "    }\n",
      "\n",
      "    public String getCharset() {\n",
      "        return this.responseCharset == null ? DEFAULT_CHARSET : this.responseCharset;\n",
      "    }\n",
      "\n",
      "    /**\n",
      "     * Sets the charset for the response string. If not set, the default is UTF-8.\n",
      "     *\n",
      "     * @param charset to be used for the response string.\n",
      "     * @see <a href=\"https://docs.oracle.com/javase/7/docs/api/java/nio/charset/Charset.html\">Charset</a>\n",
      "     */\n",
      "    public void setCharset(final String charset) {\n",
      "        this.responseCharset = charset;\n",
      "    }\n",
      "\n",
      "    /**\n",
      "     * Fired when the request progress, override to handle in your own code\n",
      "     *\n",
      "     * @param bytesWritten offset from start of file\n",
      "     * @param totalSize    total size of file\n",
      "     */\n",
      "    public void onProgress(long bytesWritten, long totalSize) {\n",
      "        AsyncHttpClient.log.v(LOG_TAG, String.format(\"Progress %d from %d (%2.0f%%)\", bytesWritten, totalSize, (totalSize > 0) ? (bytesWritten * 1.0 / totalSize) * 100 : -1));\n",
      "    }\n",
      "\n",
      "    /**\n",
      "     * Fired when the request is started, override to handle in your own code\n",
      "     */\n",
      "    public void onStart() {\n",
      "        // default log warning is not necessary, because this method is just optional notification\n",
      "    }\n",
      "\n",
      "    /**\n",
      "     * Fired in all cases when the request is finished, after both success and failure, override to\n",
      "     * handle in your own code\n",
      "     */\n",
      "    public void onFinish() {\n",
      "        // default log warning is not necessary, because this method is just optional notification\n",
      "    }\n",
      "\n",
      "    @Override\n",
      "    public void onPreProcessResponse(ResponseHandlerInterface instance, HttpResponse response) {\n",
      "        // default action is to do nothing...\n",
      "    }\n",
      "\n",
      "    @Override\n",
      "    public void onPostProcessResponse(ResponseHandlerInterface instance, HttpResponse response) {\n",
      "        // default action is to do nothing...\n",
      "    }\n",
      "\n",
      "    /**\n",
      "     * Fired when a request returns successfully, override to handle in your own code\n",
      "     *\n",
      "     * @param statusCode   the status code of the response\n",
      "     * @param headers      return headers, if any\n",
      "     * @param responseBody the body of the HTTP response from the server\n",
      "     */\n",
      "    public abstract void onSuccess(int statusCode, Header[] headers, byte[] responseBody);\n",
      "\n",
      "    /**\n",
      "     * Fired when a request fails to complete, override to handle in your own code\n",
      "     *\n",
      "     * @param statusCode   return HTTP status code\n",
      "     * @param headers      return headers, if any\n",
      "     * @param responseBody the response body, if any\n",
      "     * @param error        the underlying cause of the failure\n",
      "     */\n",
      "    public abstract void onFailure(int statusCode, Header[] headers, byte[] responseBody, Throwable error);\n",
      "\n",
      "    /**\n",
      "     * Fired when a retry occurs, override to handle in your own code\n",
      "     *\n",
      "     * @param retryNo number of retry\n",
      "     */\n",
      "    public void onRetry(int retryNo) {\n",
      "        AsyncHttpClient.log.d(LOG_TAG, String.format(\"Request retry no. %d\", retryNo));\n",
      "    }\n",
      "\n",
      "    public void onCancel() {\n",
      "        AsyncHttpClient.log.d(LOG_TAG, \"Request got cancelled\");\n",
      "    }\n",
      "\n",
      "    public void onUserException(Throwable error) {\n",
      "        AsyncHttpClient.log.e(LOG_TAG, \"User-space exception detected!\", error);\n",
      "        throw new RuntimeException(error);\n",
      "    }\n",
      "\n",
      "    @Override\n",
      "    final public void sendProgressMessage(long bytesWritten, long bytesTotal) {\n",
      "        sendMessage(obtainMessage(PROGRESS_MESSAGE, new Object[]{bytesWritten, bytesTotal}));\n",
      "    }\n",
      "\n",
      "    @Override\n",
      "    final public void sendSuccessMessage(int statusCode, Header[] headers, byte[] responseBytes) {\n",
      "        sendMessage(obtainMessage(SUCCESS_MESSAGE, new Object[]{statusCode, headers, responseBytes}));\n",
      "    }\n",
      "\n",
      "    @Override\n",
      "    final public void sendFailureMessage(int statusCode, Header[] headers, byte[] responseBody, Throwable throwable) {\n",
      "        sendMessage(obtainMessage(FAILURE_MESSAGE, new Object[]{statusCode, headers, responseBody, throwable}));\n",
      "    }\n",
      "\n",
      "    @Override\n",
      "    final public void sendStartMessage() {\n",
      "        sendMessage(obtainMessage(START_MESSAGE, null));\n",
      "    }\n",
      "\n",
      "    @Override\n",
      "    final public void sendFinishMessage() {\n",
      "        sendMessage(obtainMessage(FINISH_MESSAGE, null));\n",
      "    }\n",
      "\n",
      "    @Override\n",
      "    final public void sendRetryMessage(int retryNo) {\n",
      "        sendMessage(obtainMessage(RETRY_MESSAGE, new Object[]{retryNo}));\n",
      "    }\n",
      "\n",
      "    @Override\n",
      "    final public void sendCancelMessage() {\n",
      "        sendMessage(obtainMessage(CANCEL_MESSAGE, null));\n",
      "    }\n",
      "\n",
      "    // Methods which emulate android's Handler and Message methods\n",
      "    protected void handleMessage(Message message) {\n",
      "        Object[] response;\n",
      "\n",
      "        try {\n",
      "            switch (message.what) {\n",
      "                case SUCCESS_MESSAGE:\n",
      "                    response = (Object[]) message.obj;\n",
      "                    if (response != null && response.length >= 3) {\n",
      "                        onSuccess((Integer) response[0], (Header[]) response[1], (byte[]) response[2]);\n",
      "                    } else {\n",
      "                        AsyncHttpClient.log.e(LOG_TAG, \"SUCCESS_MESSAGE didn't got enough params\");\n",
      "                    }\n",
      "                    break;\n",
      "                case FAILURE_MESSAGE:\n",
      "                    response = (Object[]) message.obj;\n",
      "                    if (response != null && response.length >= 4) {\n",
      "                        onFailure((Integer) response[0], (Header[]) response[1], (byte[]) response[2], (Throwable) response[3]);\n",
      "                    } else {\n",
      "                        AsyncHttpClient.log.e(LOG_TAG, \"FAILURE_MESSAGE didn't got enough params\");\n",
      "                    }\n",
      "                    break;\n",
      "                case START_MESSAGE:\n",
      "                    onStart();\n",
      "                    break;\n",
      "                case FINISH_MESSAGE:\n",
      "                    onFinish();\n",
      "                    break;\n",
      "                case PROGRESS_MESSAGE:\n",
      "                    response = (Object[]) message.obj;\n",
      "                    if (response != null && response.length >= 2) {\n",
      "                        try {\n",
      "                            onProgress((Long) response[0], (Long) response[1]);\n",
      "                        } catch (Throwable t) {\n",
      "                            AsyncHttpClient.log.e(LOG_TAG, \"custom onProgress contains an error\", t);\n",
      "                        }\n",
      "                    } else {\n",
      "                        AsyncHttpClient.log.e(LOG_TAG, \"PROGRESS_MESSAGE didn't got enough params\");\n",
      "                    }\n",
      "                    break;\n",
      "                case RETRY_MESSAGE:\n",
      "                    response = (Object[]) message.obj;\n",
      "                    if (response != null && response.length == 1) {\n",
      "                        onRetry((Integer) response[0]);\n",
      "                    } else {\n",
      "                        AsyncHttpClient.log.e(LOG_TAG, \"RETRY_MESSAGE didn't get enough params\");\n",
      "                    }\n",
      "                    break;\n",
      "                case CANCEL_MESSAGE:\n",
      "                    onCancel();\n",
      "                    break;\n",
      "            }\n",
      "        } catch (Throwable error) {\n",
      "            onUserException(error);\n",
      "        }\n",
      "    }\n",
      "\n",
      "    protected void sendMessage(Message msg) {\n",
      "        if (getUseSynchronousMode() || handler == null) {\n",
      "            handleMessage(msg);\n",
      "        } else if (!Thread.currentThread().isInterrupted()) { // do not send messages if request has been cancelled\n",
      "            Utils.asserts(handler != null, \"handler should not be null!\");\n",
      "            handler.sendMessage(msg);\n",
      "        }\n",
      "    }\n",
      "\n",
      "    /**\n",
      "     * Helper method to send runnable into local handler loop\n",
      "     *\n",
      "     * @param runnable runnable instance, can be null\n",
      "     */\n",
      "    protected void postRunnable(Runnable runnable) {\n",
      "        if (runnable != null) {\n",
      "            if (getUseSynchronousMode() || handler == null) {\n",
      "                // This response handler is synchronous, run on current thread\n",
      "                runnable.run();\n",
      "            } else {\n",
      "                // Otherwise, run on provided handler\n",
      "                handler.post(runnable);\n",
      "            }\n",
      "        }\n",
      "    }\n",
      "\n",
      "    /**\n",
      "     * Helper method to create Message instance from handler\n",
      "     *\n",
      "     * @param responseMessageId   constant to identify Handler message\n",
      "     * @param responseMessageData object to be passed to message receiver\n",
      "     * @return Message instance, should not be null\n",
      "     */\n",
      "    protected Message obtainMessage(int responseMessageId, Object responseMessageData) {\n",
      "        return Message.obtain(handler, responseMessageId, responseMessageData);\n",
      "    }\n",
      "\n",
      "    @Override\n",
      "    public void sendResponseMessage(HttpResponse response) throws IOException {\n",
      "        // do not process if request has been cancelled\n",
      "        if (!Thread.currentThread().isInterrupted()) {\n",
      "            StatusLine status = response.getStatusLine();\n",
      "            byte[] responseBody;\n",
      "            responseBody = getResponseData(response.getEntity());\n",
      "            // additional cancellation check as getResponseData() can take non-zero time to process\n",
      "            if (!Thread.currentThread().isInterrupted()) {\n",
      "                if (status.getStatusCode() >= 300) {\n",
      "                    sendFailureMessage(status.getStatusCode(), response.getAllHeaders(), responseBody, new HttpResponseException(status.getStatusCode(), status.getReasonPhrase()));\n",
      "                } else {\n",
      "                    sendSuccessMessage(status.getStatusCode(), response.getAllHeaders(), responseBody);\n",
      "                }\n",
      "            }\n",
      "        }\n",
      "    }\n",
      "\n",
      "    /**\n",
      "     * Returns byte array of response HttpEntity contents\n",
      "     *\n",
      "     * @param entity can be null\n",
      "     * @return response entity body or null\n",
      "     * @throws java.io.IOException if reading entity or creating byte array failed\n",
      "     */\n",
      "    byte[] getResponseData(HttpEntity entity) throws IOException {\n",
      "        byte[] responseBody = null;\n",
      "        if (entity != null) {\n",
      "            InputStream instream = entity.getContent();\n",
      "            if (instream != null) {\n",
      "                long contentLength = entity.getContentLength();\n",
      "                if (contentLength > Integer.MAX_VALUE) {\n",
      "                    throw new IllegalArgumentException(\"HTTP entity too large to be buffered in memory\");\n",
      "                }\n",
      "                int buffersize = (contentLength <= 0) ? BUFFER_SIZE : (int) contentLength;\n",
      "                try {\n",
      "                    ByteArrayBuffer buffer = new ByteArrayBuffer(buffersize);\n",
      "                    try {\n",
      "                        byte[] tmp = new byte[BUFFER_SIZE];\n",
      "                        long count = 0;\n",
      "                        int l;\n",
      "                        // do not send messages if request has been cancelled\n",
      "                        while ((l = instream.read(tmp)) != -1 && !Thread.currentThread().isInterrupted()) {\n",
      "                            count += l;\n",
      "                            buffer.append(tmp, 0, l);\n",
      "                            sendProgressMessage(count, (contentLength <= 0 ? 1 : contentLength));\n",
      "                        }\n",
      "                    } finally {\n",
      "                        AsyncHttpClient.silentCloseInputStream(instream);\n",
      "                        AsyncHttpClient.endEntityViaReflection(entity);\n",
      "                    }\n",
      "                    responseBody = buffer.toByteArray();\n",
      "                } catch (OutOfMemoryError e) {\n",
      "                    System.gc();\n",
      "                    throw new IOException(\"File too large to fit into available memory\");\n",
      "                }\n",
      "            }\n",
      "        }\n",
      "        return responseBody;\n",
      "    }\n",
      "\n",
      "    /**\n",
      "     * Avoid leaks by using a non-anonymous handler class.\n",
      "     */\n",
      "    private static class ResponderHandler extends Handler {\n",
      "        private final AsyncHttpResponseHandler mResponder;\n",
      "\n",
      "        ResponderHandler(AsyncHttpResponseHandler mResponder, Looper looper) {\n",
      "            super(looper);\n",
      "            this.mResponder = mResponder;\n",
      "        }\n",
      "\n",
      "        @Override\n",
      "        public void handleMessage(Message msg) {\n",
      "            mResponder.handleMessage(msg);\n",
      "        }\n",
      "    }\n",
      "}\n",
      "\n"
     ]
    }
   ],
   "source": [
    "print(a_blob.data_stream.read())"
   ]
  },
  {
   "cell_type": "code",
   "execution_count": 116,
   "metadata": {
    "collapsed": false
   },
   "outputs": [],
   "source": [
    "with open(\"a_blob.java\", \"wb\") as f:\n",
    "    f.write(a_blob.data_stream.read())\n",
    "    \n",
    "with open(\"b_blob.java\", \"wb\") as f:\n",
    "    f.write(b_blob.data_stream.read())"
   ]
  },
  {
   "cell_type": "code",
   "execution_count": null,
   "metadata": {
    "collapsed": true
   },
   "outputs": [],
   "source": [
    "def GumTreeDiff(a_blob, b_blob):\n",
    "    a_blob.data_stream"
   ]
  },
  {
   "cell_type": "code",
   "execution_count": null,
   "metadata": {
    "collapsed": true
   },
   "outputs": [],
   "source": [
    "import p"
   ]
  },
  {
   "cell_type": "code",
   "execution_count": 118,
   "metadata": {
    "collapsed": false
   },
   "outputs": [
    {
     "data": {
      "text/plain": [
       "'\\nInsert VariableDeclarationStatement(89) into Block(70) at 0\\nInsert ParameterizedType: Set<TaskResult>(89) into VariableDeclarationStatement(89) at 0\\nInsert VariableDeclarationFragment(105) into VariableDeclarationStatement(89) at 1\\nInsert SimpleType: Set(89) into ParameterizedType: Set<TaskResult>(89) at 0\\nInsert SimpleType: TaskResult(93) into ParameterizedType: Set<TaskResult>(89) at 1\\nInsert SimpleName: results(105) into VariableDeclarationFragment(105) at 0\\nInsert ClassInstanceCreation(115) into VariableDeclarationFragment(105) at 1\\nInsert ExpressionStatement(200) into Block(161) at 1\\nInsert SimpleName: Set(89) into SimpleType: Set(89) at 0\\nInsert SimpleName: TaskResult(93) into SimpleType: TaskResult(93) at 0\\nInsert ParameterizedType: HashSet<>(119) into ClassInstanceCreation(115) at 0\\nInsert MethodInvocation(200) into ExpressionStatement(200) at 0\\nInsert SimpleType: HashSet(119) into ParameterizedType: HashSet<>(119) at 0\\nInsert SimpleName: results(200) into MethodInvocation(200) at 0\\nInsert SimpleName: add(208) into MethodInvocation(200) at 1\\nInsert MethodInvocation(212) into MethodInvocation(200) at 2\\nInsert SimpleName: HashSet(119) into SimpleType: HashSet(119) at 0\\nInsert SimpleName: t(212) into MethodInvocation(212) at 0\\nInsert SimpleName: getResult(214) into MethodInvocation(212) at 1\\n'"
      ]
     },
     "execution_count": 118,
     "metadata": {},
     "output_type": "execute_result"
    }
   ],
   "source": [
    "'''\n",
    "Insert VariableDeclarationStatement(89) into Block(70) at 0\n",
    "Insert ParameterizedType: Set<TaskResult>(89) into VariableDeclarationStatement(89) at 0\n",
    "Insert VariableDeclarationFragment(105) into VariableDeclarationStatement(89) at 1\n",
    "Insert SimpleType: Set(89) into ParameterizedType: Set<TaskResult>(89) at 0\n",
    "Insert SimpleType: TaskResult(93) into ParameterizedType: Set<TaskResult>(89) at 1\n",
    "Insert SimpleName: results(105) into VariableDeclarationFragment(105) at 0\n",
    "Insert ClassInstanceCreation(115) into VariableDeclarationFragment(105) at 1\n",
    "Insert ExpressionStatement(200) into Block(161) at 1\n",
    "Insert SimpleName: Set(89) into SimpleType: Set(89) at 0\n",
    "Insert SimpleName: TaskResult(93) into SimpleType: TaskResult(93) at 0\n",
    "Insert ParameterizedType: HashSet<>(119) into ClassInstanceCreation(115) at 0\n",
    "Insert MethodInvocation(200) into ExpressionStatement(200) at 0\n",
    "Insert SimpleType: HashSet(119) into ParameterizedType: HashSet<>(119) at 0\n",
    "Insert SimpleName: results(200) into MethodInvocation(200) at 0\n",
    "Insert SimpleName: add(208) into MethodInvocation(200) at 1\n",
    "Insert MethodInvocation(212) into MethodInvocation(200) at 2\n",
    "Insert SimpleName: HashSet(119) into SimpleType: HashSet(119) at 0\n",
    "Insert SimpleName: t(212) into MethodInvocation(212) at 0\n",
    "Insert SimpleName: getResult(214) into MethodInvocation(212) at 1\n",
    "'''"
   ]
  },
  {
   "cell_type": "code",
   "execution_count": 119,
   "metadata": {
    "collapsed": true
   },
   "outputs": [],
   "source": [
    "import json"
   ]
  },
  {
   "cell_type": "code",
   "execution_count": 120,
   "metadata": {
    "collapsed": true
   },
   "outputs": [],
   "source": [
    "diff = None\n",
    "with open(\"temp/diff.json\", \"r\") as f:\n",
    "    diff = json.loads(f.read())"
   ]
  },
  {
   "cell_type": "code",
   "execution_count": 125,
   "metadata": {
    "collapsed": false
   },
   "outputs": [],
   "source": [
    "# filter only insert\n",
    "change_context = [ action for action in diff[\"actions\"] if action[\"action\"] == 'insert']"
   ]
  },
  {
   "cell_type": "code",
   "execution_count": 126,
   "metadata": {
    "collapsed": false
   },
   "outputs": [
    {
     "data": {
      "text/plain": [
       "[{u'action': u'insert',\n",
       "  u'at': 0,\n",
       "  u'label': u'VariableDeclarationStatement',\n",
       "  u'label string': u'',\n",
       "  u'parent': 42,\n",
       "  u'pos': 89,\n",
       "  u'tree': 23,\n",
       "  u'type': 60},\n",
       " {u'action': u'insert',\n",
       "  u'at': 0,\n",
       "  u'label': u'ParameterizedType: Set<TaskResult>',\n",
       "  u'label string': u'Set<TaskResult>',\n",
       "  u'parent': 23,\n",
       "  u'pos': 89,\n",
       "  u'tree': 16,\n",
       "  u'type': 74},\n",
       " {u'action': u'insert',\n",
       "  u'at': 1,\n",
       "  u'label': u'VariableDeclarationFragment',\n",
       "  u'label string': u'',\n",
       "  u'parent': 23,\n",
       "  u'pos': 105,\n",
       "  u'tree': 22,\n",
       "  u'type': 59},\n",
       " {u'action': u'insert',\n",
       "  u'at': 0,\n",
       "  u'label': u'SimpleType: Set',\n",
       "  u'label string': u'Set',\n",
       "  u'parent': 16,\n",
       "  u'pos': 89,\n",
       "  u'tree': 13,\n",
       "  u'type': 43},\n",
       " {u'action': u'insert',\n",
       "  u'at': 1,\n",
       "  u'label': u'SimpleType: TaskResult',\n",
       "  u'label string': u'TaskResult',\n",
       "  u'parent': 16,\n",
       "  u'pos': 93,\n",
       "  u'tree': 15,\n",
       "  u'type': 43},\n",
       " {u'action': u'insert',\n",
       "  u'at': 0,\n",
       "  u'label': u'SimpleName: results',\n",
       "  u'label string': u'results',\n",
       "  u'parent': 22,\n",
       "  u'pos': 105,\n",
       "  u'tree': 17,\n",
       "  u'type': 42},\n",
       " {u'action': u'insert',\n",
       "  u'at': 1,\n",
       "  u'label': u'ClassInstanceCreation',\n",
       "  u'label string': u'',\n",
       "  u'parent': 22,\n",
       "  u'pos': 115,\n",
       "  u'tree': 21,\n",
       "  u'type': 14},\n",
       " {u'action': u'insert',\n",
       "  u'at': 1,\n",
       "  u'label': u'ExpressionStatement',\n",
       "  u'label string': u'',\n",
       "  u'parent': 40,\n",
       "  u'pos': 200,\n",
       "  u'tree': 39,\n",
       "  u'type': 21},\n",
       " {u'action': u'insert',\n",
       "  u'at': 0,\n",
       "  u'label': u'SimpleName: Set',\n",
       "  u'label string': u'Set',\n",
       "  u'parent': 13,\n",
       "  u'pos': 89,\n",
       "  u'tree': 12,\n",
       "  u'type': 42},\n",
       " {u'action': u'insert',\n",
       "  u'at': 0,\n",
       "  u'label': u'SimpleName: TaskResult',\n",
       "  u'label string': u'TaskResult',\n",
       "  u'parent': 15,\n",
       "  u'pos': 93,\n",
       "  u'tree': 14,\n",
       "  u'type': 42},\n",
       " {u'action': u'insert',\n",
       "  u'at': 0,\n",
       "  u'label': u'ParameterizedType: HashSet<>',\n",
       "  u'label string': u'HashSet<>',\n",
       "  u'parent': 21,\n",
       "  u'pos': 119,\n",
       "  u'tree': 20,\n",
       "  u'type': 74},\n",
       " {u'action': u'insert',\n",
       "  u'at': 0,\n",
       "  u'label': u'MethodInvocation',\n",
       "  u'label string': u'',\n",
       "  u'parent': 39,\n",
       "  u'pos': 200,\n",
       "  u'tree': 38,\n",
       "  u'type': 32},\n",
       " {u'action': u'insert',\n",
       "  u'at': 0,\n",
       "  u'label': u'SimpleType: HashSet',\n",
       "  u'label string': u'HashSet',\n",
       "  u'parent': 20,\n",
       "  u'pos': 119,\n",
       "  u'tree': 19,\n",
       "  u'type': 43},\n",
       " {u'action': u'insert',\n",
       "  u'at': 0,\n",
       "  u'label': u'SimpleName: results',\n",
       "  u'label string': u'results',\n",
       "  u'parent': 38,\n",
       "  u'pos': 200,\n",
       "  u'tree': 33,\n",
       "  u'type': 42},\n",
       " {u'action': u'insert',\n",
       "  u'at': 1,\n",
       "  u'label': u'SimpleName: add',\n",
       "  u'label string': u'add',\n",
       "  u'parent': 38,\n",
       "  u'pos': 208,\n",
       "  u'tree': 34,\n",
       "  u'type': 42},\n",
       " {u'action': u'insert',\n",
       "  u'at': 2,\n",
       "  u'label': u'MethodInvocation',\n",
       "  u'label string': u'',\n",
       "  u'parent': 38,\n",
       "  u'pos': 212,\n",
       "  u'tree': 37,\n",
       "  u'type': 32},\n",
       " {u'action': u'insert',\n",
       "  u'at': 0,\n",
       "  u'label': u'SimpleName: HashSet',\n",
       "  u'label string': u'HashSet',\n",
       "  u'parent': 19,\n",
       "  u'pos': 119,\n",
       "  u'tree': 18,\n",
       "  u'type': 42},\n",
       " {u'action': u'insert',\n",
       "  u'at': 0,\n",
       "  u'label': u'SimpleName: t',\n",
       "  u'label string': u't',\n",
       "  u'parent': 37,\n",
       "  u'pos': 212,\n",
       "  u'tree': 35,\n",
       "  u'type': 42},\n",
       " {u'action': u'insert',\n",
       "  u'at': 1,\n",
       "  u'label': u'SimpleName: getResult',\n",
       "  u'label string': u'getResult',\n",
       "  u'parent': 37,\n",
       "  u'pos': 214,\n",
       "  u'tree': 36,\n",
       "  u'type': 42}]"
      ]
     },
     "execution_count": 126,
     "metadata": {},
     "output_type": "execute_result"
    }
   ],
   "source": [
    "change_context"
   ]
  },
  {
   "cell_type": "code",
   "execution_count": 127,
   "metadata": {
    "collapsed": true
   },
   "outputs": [],
   "source": [
    "size = len(change_context)"
   ]
  },
  {
   "cell_type": "code",
   "execution_count": 130,
   "metadata": {
    "collapsed": false
   },
   "outputs": [],
   "source": [
    "midpoint = size / 2 "
   ]
  },
  {
   "cell_type": "code",
   "execution_count": 136,
   "metadata": {
    "collapsed": false
   },
   "outputs": [
    {
     "name": "stdout",
     "output_type": "stream",
     "text": [
      "11\n"
     ]
    }
   ],
   "source": [
    "# find the method invocation at the midpoint\n",
    "i = midpoint\n",
    "while i < size:\n",
    "    if change_context[i][\"type\"] == 32: # method invocation\n",
    "        print i\n",
    "        break\n",
    "    i += 1"
   ]
  },
  {
   "cell_type": "code",
   "execution_count": 147,
   "metadata": {
    "collapsed": false
   },
   "outputs": [
    {
     "name": "stdout",
     "output_type": "stream",
     "text": [
      "Target is [add], pos [208]\n"
     ]
    }
   ],
   "source": [
    "# find the 2nd SimpleName node, that's the method name\n",
    "assert(change_context[i+1][\"type\"] == 43)\n",
    "assert(change_context[i+2][\"type\"] == 42)\n",
    "assert(change_context[i+3][\"type\"] == 42)\n",
    "target = change_context[i+3]['label string']\n",
    "position = change_context[i+3][\"pos\"]\n",
    "print(\"Target is [{}], pos [{}]\".format(target, position))"
   ]
  },
  {
   "cell_type": "code",
   "execution_count": 150,
   "metadata": {
    "collapsed": false
   },
   "outputs": [],
   "source": [
    "X = 6\n",
    "# Generate (previous) X change context \n",
    "if i + 3 - X < 0:\n",
    "    print(\"Not enough change context\")\n",
    "else:\n",
    "    change_contexts = [ change_context[i+3-j-1] for j in range(X)]\n",
    "        \n"
   ]
  },
  {
   "cell_type": "code",
   "execution_count": 153,
   "metadata": {
    "collapsed": false
   },
   "outputs": [
    {
     "data": {
      "text/plain": [
       "6"
      ]
     },
     "execution_count": 153,
     "metadata": {},
     "output_type": "execute_result"
    }
   ],
   "source": [
    "len(change_contexts)"
   ]
  },
  {
   "cell_type": "code",
   "execution_count": null,
   "metadata": {
    "collapsed": false
   },
   "outputs": [],
   "source": []
  },
  {
   "cell_type": "code",
   "execution_count": 1,
   "metadata": {
    "collapsed": false
   },
   "outputs": [],
   "source": [
    "import Mining"
   ]
  },
  {
   "cell_type": "code",
   "execution_count": 2,
   "metadata": {
    "collapsed": false
   },
   "outputs": [],
   "source": [
    "changes = Mining._GumTreeDiffFiles()"
   ]
  },
  {
   "cell_type": "code",
   "execution_count": 3,
   "metadata": {
    "collapsed": false
   },
   "outputs": [
    {
     "data": {
      "text/plain": [
       "[{u'action': u'insert',\n",
       "  u'at': 0,\n",
       "  u'label': u'VariableDeclarationStatement',\n",
       "  u'label string': u'',\n",
       "  u'parent': 42,\n",
       "  u'pos': 89,\n",
       "  u'tree': 23,\n",
       "  u'type': 60},\n",
       " {u'action': u'insert',\n",
       "  u'at': 0,\n",
       "  u'label': u'ParameterizedType: Set<TaskResult>',\n",
       "  u'label string': u'Set<TaskResult>',\n",
       "  u'parent': 23,\n",
       "  u'pos': 89,\n",
       "  u'tree': 16,\n",
       "  u'type': 74},\n",
       " {u'action': u'insert',\n",
       "  u'at': 1,\n",
       "  u'label': u'VariableDeclarationFragment',\n",
       "  u'label string': u'',\n",
       "  u'parent': 23,\n",
       "  u'pos': 105,\n",
       "  u'tree': 22,\n",
       "  u'type': 59},\n",
       " {u'action': u'insert',\n",
       "  u'at': 0,\n",
       "  u'label': u'SimpleType: Set',\n",
       "  u'label string': u'Set',\n",
       "  u'parent': 16,\n",
       "  u'pos': 89,\n",
       "  u'tree': 13,\n",
       "  u'type': 43},\n",
       " {u'action': u'insert',\n",
       "  u'at': 1,\n",
       "  u'label': u'SimpleType: TaskResult',\n",
       "  u'label string': u'TaskResult',\n",
       "  u'parent': 16,\n",
       "  u'pos': 93,\n",
       "  u'tree': 15,\n",
       "  u'type': 43},\n",
       " {u'action': u'insert',\n",
       "  u'at': 0,\n",
       "  u'label': u'SimpleName: results',\n",
       "  u'label string': u'results',\n",
       "  u'parent': 22,\n",
       "  u'pos': 105,\n",
       "  u'tree': 17,\n",
       "  u'type': 42},\n",
       " {u'action': u'insert',\n",
       "  u'at': 1,\n",
       "  u'label': u'ClassInstanceCreation',\n",
       "  u'label string': u'',\n",
       "  u'parent': 22,\n",
       "  u'pos': 115,\n",
       "  u'tree': 21,\n",
       "  u'type': 14},\n",
       " {u'action': u'insert',\n",
       "  u'at': 1,\n",
       "  u'label': u'ExpressionStatement',\n",
       "  u'label string': u'',\n",
       "  u'parent': 40,\n",
       "  u'pos': 200,\n",
       "  u'tree': 39,\n",
       "  u'type': 21},\n",
       " {u'action': u'insert',\n",
       "  u'at': 0,\n",
       "  u'label': u'SimpleName: Set',\n",
       "  u'label string': u'Set',\n",
       "  u'parent': 13,\n",
       "  u'pos': 89,\n",
       "  u'tree': 12,\n",
       "  u'type': 42},\n",
       " {u'action': u'insert',\n",
       "  u'at': 0,\n",
       "  u'label': u'SimpleName: TaskResult',\n",
       "  u'label string': u'TaskResult',\n",
       "  u'parent': 15,\n",
       "  u'pos': 93,\n",
       "  u'tree': 14,\n",
       "  u'type': 42},\n",
       " {u'action': u'insert',\n",
       "  u'at': 0,\n",
       "  u'label': u'ParameterizedType: HashSet<>',\n",
       "  u'label string': u'HashSet<>',\n",
       "  u'parent': 21,\n",
       "  u'pos': 119,\n",
       "  u'tree': 20,\n",
       "  u'type': 74},\n",
       " {u'action': u'insert',\n",
       "  u'at': 0,\n",
       "  u'label': u'MethodInvocation',\n",
       "  u'label string': u'',\n",
       "  u'parent': 39,\n",
       "  u'pos': 200,\n",
       "  u'tree': 38,\n",
       "  u'type': 32},\n",
       " {u'action': u'insert',\n",
       "  u'at': 0,\n",
       "  u'label': u'SimpleType: HashSet',\n",
       "  u'label string': u'HashSet',\n",
       "  u'parent': 20,\n",
       "  u'pos': 119,\n",
       "  u'tree': 19,\n",
       "  u'type': 43},\n",
       " {u'action': u'insert',\n",
       "  u'at': 0,\n",
       "  u'label': u'SimpleName: results',\n",
       "  u'label string': u'results',\n",
       "  u'parent': 38,\n",
       "  u'pos': 200,\n",
       "  u'tree': 33,\n",
       "  u'type': 42},\n",
       " {u'action': u'insert',\n",
       "  u'at': 1,\n",
       "  u'label': u'SimpleName: add',\n",
       "  u'label string': u'add',\n",
       "  u'parent': 38,\n",
       "  u'pos': 208,\n",
       "  u'tree': 34,\n",
       "  u'type': 42},\n",
       " {u'action': u'insert',\n",
       "  u'at': 2,\n",
       "  u'label': u'MethodInvocation',\n",
       "  u'label string': u'',\n",
       "  u'parent': 38,\n",
       "  u'pos': 212,\n",
       "  u'tree': 37,\n",
       "  u'type': 32},\n",
       " {u'action': u'insert',\n",
       "  u'at': 0,\n",
       "  u'label': u'SimpleName: HashSet',\n",
       "  u'label string': u'HashSet',\n",
       "  u'parent': 19,\n",
       "  u'pos': 119,\n",
       "  u'tree': 18,\n",
       "  u'type': 42},\n",
       " {u'action': u'insert',\n",
       "  u'at': 0,\n",
       "  u'label': u'SimpleName: t',\n",
       "  u'label string': u't',\n",
       "  u'parent': 37,\n",
       "  u'pos': 212,\n",
       "  u'tree': 35,\n",
       "  u'type': 42},\n",
       " {u'action': u'insert',\n",
       "  u'at': 1,\n",
       "  u'label': u'SimpleName: getResult',\n",
       "  u'label string': u'getResult',\n",
       "  u'parent': 37,\n",
       "  u'pos': 214,\n",
       "  u'tree': 36,\n",
       "  u'type': 42}]"
      ]
     },
     "execution_count": 3,
     "metadata": {},
     "output_type": "execute_result"
    }
   ],
   "source": [
    "changes"
   ]
  },
  {
   "cell_type": "code",
   "execution_count": 4,
   "metadata": {
    "collapsed": false
   },
   "outputs": [
    {
     "name": "stdout",
     "output_type": "stream",
     "text": [
      "11\n"
     ]
    }
   ],
   "source": [
    "target, change_context = Mining._seperateContextAndTarget(changes, 6)"
   ]
  },
  {
   "cell_type": "code",
   "execution_count": 5,
   "metadata": {
    "collapsed": false
   },
   "outputs": [
    {
     "data": {
      "text/plain": [
       "{u'action': u'insert',\n",
       " u'at': 1,\n",
       " u'label': u'SimpleName: add',\n",
       " u'label string': u'add',\n",
       " u'parent': 38,\n",
       " u'pos': 208,\n",
       " u'tree': 34,\n",
       " u'type': 42}"
      ]
     },
     "execution_count": 5,
     "metadata": {},
     "output_type": "execute_result"
    }
   ],
   "source": [
    "target"
   ]
  },
  {
   "cell_type": "code",
   "execution_count": 6,
   "metadata": {
    "collapsed": false
   },
   "outputs": [
    {
     "data": {
      "text/plain": [
       "[{u'action': u'insert',\n",
       "  u'at': 0,\n",
       "  u'label': u'SimpleName: results',\n",
       "  u'label string': u'results',\n",
       "  u'parent': 38,\n",
       "  u'pos': 200,\n",
       "  u'tree': 33,\n",
       "  u'type': 42},\n",
       " {u'action': u'insert',\n",
       "  u'at': 0,\n",
       "  u'label': u'SimpleType: HashSet',\n",
       "  u'label string': u'HashSet',\n",
       "  u'parent': 20,\n",
       "  u'pos': 119,\n",
       "  u'tree': 19,\n",
       "  u'type': 43},\n",
       " {u'action': u'insert',\n",
       "  u'at': 0,\n",
       "  u'label': u'MethodInvocation',\n",
       "  u'label string': u'',\n",
       "  u'parent': 39,\n",
       "  u'pos': 200,\n",
       "  u'tree': 38,\n",
       "  u'type': 32},\n",
       " {u'action': u'insert',\n",
       "  u'at': 0,\n",
       "  u'label': u'ParameterizedType: HashSet<>',\n",
       "  u'label string': u'HashSet<>',\n",
       "  u'parent': 21,\n",
       "  u'pos': 119,\n",
       "  u'tree': 20,\n",
       "  u'type': 74},\n",
       " {u'action': u'insert',\n",
       "  u'at': 0,\n",
       "  u'label': u'SimpleName: TaskResult',\n",
       "  u'label string': u'TaskResult',\n",
       "  u'parent': 15,\n",
       "  u'pos': 93,\n",
       "  u'tree': 14,\n",
       "  u'type': 42},\n",
       " {u'action': u'insert',\n",
       "  u'at': 0,\n",
       "  u'label': u'SimpleName: Set',\n",
       "  u'label string': u'Set',\n",
       "  u'parent': 13,\n",
       "  u'pos': 89,\n",
       "  u'tree': 12,\n",
       "  u'type': 42}]"
      ]
     },
     "execution_count": 6,
     "metadata": {},
     "output_type": "execute_result"
    }
   ],
   "source": [
    "change_context"
   ]
  },
  {
   "cell_type": "code",
   "execution_count": null,
   "metadata": {
    "collapsed": true
   },
   "outputs": [],
   "source": []
  }
 ],
 "metadata": {
  "kernelspec": {
   "display_name": "Python 3",
   "language": "python",
   "name": "python3"
  },
  "language_info": {
   "codemirror_mode": {
    "name": "ipython",
    "version": 2
   },
   "file_extension": ".py",
   "mimetype": "text/x-python",
   "name": "python",
   "nbconvert_exporter": "python",
   "pygments_lexer": "ipython2",
   "version": "2.7.10"
  }
 },
 "nbformat": 4,
 "nbformat_minor": 2
}
